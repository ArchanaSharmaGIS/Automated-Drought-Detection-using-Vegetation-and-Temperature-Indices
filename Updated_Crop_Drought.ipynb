{
 "cells": [
  {
   "cell_type": "code",
   "execution_count": 1,
   "id": "2662cdcf",
   "metadata": {},
   "outputs": [],
   "source": [
    "import ee\n",
    "import geemap\n",
    "import os\n",
    "import rasterio\n",
    "import numpy as np\n",
    "import matplotlib.pyplot as plt\n",
    "import rasterio\n",
    "from rasterio.transform import from_origin\n",
    "from rasterio.enums import Resampling\n",
    "from rasterio.warp import reproject\n",
    "import geopandas as gpd"
   ]
  },
  {
   "cell_type": "code",
   "execution_count": 2,
   "id": "2c5c2736",
   "metadata": {},
   "outputs": [
    {
     "data": {
      "text/html": [
       "\n",
       "            <style>\n",
       "                .geemap-dark {\n",
       "                    --jp-widgets-color: white;\n",
       "                    --jp-widgets-label-color: white;\n",
       "                    --jp-ui-font-color1: white;\n",
       "                    --jp-layout-color2: #454545;\n",
       "                    background-color: #383838;\n",
       "                }\n",
       "\n",
       "                .geemap-dark .jupyter-button {\n",
       "                    --jp-layout-color3: #383838;\n",
       "                }\n",
       "\n",
       "                .geemap-colab {\n",
       "                    background-color: var(--colab-primary-surface-color, white);\n",
       "                }\n",
       "\n",
       "                .geemap-colab .jupyter-button {\n",
       "                    --jp-layout-color3: var(--colab-primary-surface-color, white);\n",
       "                }\n",
       "            </style>\n",
       "            "
      ],
      "text/plain": [
       "<IPython.core.display.HTML object>"
      ]
     },
     "metadata": {},
     "output_type": "display_data"
    }
   ],
   "source": [
    "# Authenticate and initialize the Earth Engine API\n",
    "ee.Authenticate()\n",
    "ee.Initialize()"
   ]
  },
  {
   "cell_type": "code",
   "execution_count": 3,
   "id": "10df2b62",
   "metadata": {},
   "outputs": [
    {
     "data": {
      "text/html": [
       "\n",
       "            <style>\n",
       "                .geemap-dark {\n",
       "                    --jp-widgets-color: white;\n",
       "                    --jp-widgets-label-color: white;\n",
       "                    --jp-ui-font-color1: white;\n",
       "                    --jp-layout-color2: #454545;\n",
       "                    background-color: #383838;\n",
       "                }\n",
       "\n",
       "                .geemap-dark .jupyter-button {\n",
       "                    --jp-layout-color3: #383838;\n",
       "                }\n",
       "\n",
       "                .geemap-colab {\n",
       "                    background-color: var(--colab-primary-surface-color, white);\n",
       "                }\n",
       "\n",
       "                .geemap-colab .jupyter-button {\n",
       "                    --jp-layout-color3: var(--colab-primary-surface-color, white);\n",
       "                }\n",
       "            </style>\n",
       "            "
      ],
      "text/plain": [
       "<IPython.core.display.HTML object>"
      ]
     },
     "metadata": {},
     "output_type": "display_data"
    }
   ],
   "source": [
    "# Create a map\n",
    "Map = geemap.Map()\n",
    "Map.add_basemap('Hybrid')\n"
   ]
  },
  {
   "cell_type": "code",
   "execution_count": 13,
   "id": "91f5b365",
   "metadata": {},
   "outputs": [
    {
     "data": {
      "text/html": [
       "\n",
       "            <style>\n",
       "                .geemap-dark {\n",
       "                    --jp-widgets-color: white;\n",
       "                    --jp-widgets-label-color: white;\n",
       "                    --jp-ui-font-color1: white;\n",
       "                    --jp-layout-color2: #454545;\n",
       "                    background-color: #383838;\n",
       "                }\n",
       "\n",
       "                .geemap-dark .jupyter-button {\n",
       "                    --jp-layout-color3: #383838;\n",
       "                }\n",
       "\n",
       "                .geemap-colab {\n",
       "                    background-color: var(--colab-primary-surface-color, white);\n",
       "                }\n",
       "\n",
       "                .geemap-colab .jupyter-button {\n",
       "                    --jp-layout-color3: var(--colab-primary-surface-color, white);\n",
       "                }\n",
       "            </style>\n",
       "            "
      ],
      "text/plain": [
       "<IPython.core.display.HTML object>"
      ]
     },
     "metadata": {},
     "output_type": "display_data"
    }
   ],
   "source": [
    "def addFile(file_path):\n",
    "    file_extension = os.path.splitext(file_path)[1].lower()\n",
    "    if file_extension == '.json' or file_extension == '.geojson':\n",
    "        ee_object = geemap.geojson_to_ee(file_path)\n",
    "    elif file_extension == '.shp':\n",
    "        ee_object = geemap.shp_to_ee(file_path)\n",
    "    else:\n",
    "        raise ValueError(\"Unsupported file format. Supported formats: GeoJSON (.json, .geojson) and shapefile (.shp)\")\n",
    "    return ee_object\n"
   ]
  },
  {
   "cell_type": "code",
   "execution_count": 14,
   "id": "fe40863a",
   "metadata": {},
   "outputs": [
    {
     "data": {
      "text/html": [
       "\n",
       "            <style>\n",
       "                .geemap-dark {\n",
       "                    --jp-widgets-color: white;\n",
       "                    --jp-widgets-label-color: white;\n",
       "                    --jp-ui-font-color1: white;\n",
       "                    --jp-layout-color2: #454545;\n",
       "                    background-color: #383838;\n",
       "                }\n",
       "\n",
       "                .geemap-dark .jupyter-button {\n",
       "                    --jp-layout-color3: #383838;\n",
       "                }\n",
       "\n",
       "                .geemap-colab {\n",
       "                    background-color: var(--colab-primary-surface-color, white);\n",
       "                }\n",
       "\n",
       "                .geemap-colab .jupyter-button {\n",
       "                    --jp-layout-color3: var(--colab-primary-surface-color, white);\n",
       "                }\n",
       "            </style>\n",
       "            "
      ],
      "text/plain": [
       "<IPython.core.display.HTML object>"
      ]
     },
     "metadata": {},
     "output_type": "display_data"
    },
    {
     "data": {
      "application/vnd.jupyter.widget-view+json": {
       "model_id": "31ccd5e3ebdd42af91ef324701d63186",
       "version_major": 2,
       "version_minor": 0
      },
      "text/plain": [
       "Map(center=[0, 0], controls=(WidgetControl(options=['position', 'transparent_bg'], widget=SearchDataGUI(childr…"
      ]
     },
     "metadata": {},
     "output_type": "display_data"
    }
   ],
   "source": [
    "# Load and add boundary file\n",
    "geojson_path = r\"S:\\Project Maluku\\Basefile\\PT_Bintang_Lima_Makmur_Project_Boundary.shp\"\n",
    "# roi = gpd.read_file(geojson_path)\n",
    "roi = addFile(geojson_path)\n",
    "region = roi.geometry()\n",
    "\n",
    "\n",
    "\n",
    "\n",
    "Map.centerObject(roi)\n",
    "Map.addLayer(roi.style(**{'color': 'FFFFFF', 'fillColor': '00000000'}), {}, 'Boundary')\n",
    "\n",
    "# Define date range\n",
    "startdate = '2015-01-01'\n",
    "enddate = '2024-03-30'\n",
    "\n",
    "# Change dataset to Landsat 8\n",
    "dataset = (\n",
    "    ee.ImageCollection('LANDSAT/LC08/C02/T1_L2')\n",
    "    .filterDate(startdate, enddate)\n",
    "    .filterBounds(roi)\n",
    ")\n",
    "Map"
   ]
  },
  {
   "cell_type": "code",
   "execution_count": null,
   "id": "81ecc21f",
   "metadata": {},
   "outputs": [],
   "source": []
  },
  {
   "cell_type": "code",
   "execution_count": null,
   "id": "0532da59",
   "metadata": {},
   "outputs": [],
   "source": []
  },
  {
   "cell_type": "code",
   "execution_count": null,
   "id": "47c93d9d",
   "metadata": {},
   "outputs": [],
   "source": [
    "path = gpd.read_file(geojson_path).crs\n",
    "path"
   ]
  },
  {
   "cell_type": "code",
   "execution_count": null,
   "id": "1ca36f96",
   "metadata": {},
   "outputs": [],
   "source": [
    "# Print number of images after initial filtering\n",
    "num_images = dataset.size().getInfo()\n",
    "print(f\"Number of images after initial filtering: {num_images}\")"
   ]
  },
  {
   "cell_type": "code",
   "execution_count": null,
   "id": "4050cf7f",
   "metadata": {},
   "outputs": [],
   "source": [
    "\n",
    "# Check if images are available after filtering\n",
    "if num_images == 0:\n",
    "    raise ValueError(\"No images found in the dataset. Check your date range and region of interest.\")\n",
    "\n",
    "# Reduce cloud cover filter\n",
    "dataset = dataset.filterMetadata('CLOUD_COVER_LAND', 'less_than', 50)\n",
    "\n",
    "# Print number of images after cloud cover filtering\n",
    "num_images = dataset.size().getInfo()\n",
    "print(f\"Number of images after cloud cover filtering: {num_images}\")\n",
    "\n",
    "# Check if images are available after filtering\n",
    "if num_images == 0:\n",
    "    raise ValueError(\"No images found after applying cloud cover filter. Try increasing the cloud cover threshold.\")"
   ]
  },
  {
   "cell_type": "code",
   "execution_count": null,
   "id": "a4e9ae38",
   "metadata": {},
   "outputs": [],
   "source": [
    "# Visualization parameters\n",
    "visualization = {\n",
    "    'min': 0,\n",
    "    'max': 3000,\n",
    "    'bands': ['SR_B6', 'SR_B5', 'SR_B4'],  # Correct band names\n",
    "}\n",
    "\n",
    "landsat8 = dataset.median().clip(roi)"
   ]
  },
  {
   "cell_type": "code",
   "execution_count": null,
   "id": "659fdcef",
   "metadata": {},
   "outputs": [],
   "source": [
    "# Visualization parameters\n",
    "visualization = {\n",
    "    'min': 0,\n",
    "    'max': 3000,\n",
    "    'bands': ['SR_B6', 'SR_B5', 'SR_B4'],  # Correct band names\n",
    "}\n",
    "\n",
    "landsat8 = dataset.median().clip(roi)\n",
    "# Function to export raw image\n",
    "def ExportRawImage(img, name):\n",
    "    region = roi.geometry()\n",
    "    geemap.ee_export_image(\n",
    "        img,\n",
    "        filename=name,\n",
    "        scale=30,\n",
    "        region=region,\n",
    "        file_per_band=False\n",
    "    )\n",
    "    print(f\"Exported image to {name}\")"
   ]
  },
  {
   "cell_type": "code",
   "execution_count": null,
   "id": "a2da9bce",
   "metadata": {},
   "outputs": [],
   "source": [
    "# Export the Landsat 8 image\n",
    "# ExportRawImage(landsat8, r\"S:\\python Course 05-04-2024\\Example_practices\\landsat8_image.tif\")"
   ]
  },
  {
   "cell_type": "code",
   "execution_count": null,
   "id": "96cf34ac",
   "metadata": {},
   "outputs": [],
   "source": [
    "# Check available bands\n",
    "bands = landsat8.bandNames().getInfo()\n",
    "print(f\"Available bands: {bands}\")\n"
   ]
  },
  {
   "cell_type": "code",
   "execution_count": null,
   "id": "fda35bea",
   "metadata": {},
   "outputs": [],
   "source": [
    "# Calculate NDVI\n",
    "red_band = 'SR_B4'\n",
    "nir_band = 'SR_B5'\n",
    "if red_band in bands and nir_band in bands:\n",
    "    red = landsat8.select(red_band)\n",
    "    nir = landsat8.select(nir_band)\n",
    "    ndvi = nir.subtract(red).divide(nir.add(red)).rename('NDVI')\n",
    "\n",
    "    # Display NDVI on map\n",
    "    Map.addLayer(ndvi, {'min': -1, 'max': 1, 'palette': ['red', 'yellow', 'green']}, 'NDVI', True)\n",
    "\n",
    "    # Export NDVI\n",
    "    ndvi_output_path = r\"S:\\python Course 05-04-2024\\Example_practices\\maluku_ndvi.tif\"\n",
    "    geemap.ee_export_image(\n",
    "        ndvi,\n",
    "        filename=ndvi_output_path,\n",
    "        scale=30,\n",
    "        region=region,\n",
    "        file_per_band=False\n",
    "    )\n",
    "    print(f\"NDVI calculation and export completed. Saved to {ndvi_output_path}\")\n",
    "else:\n",
    "    print(f\"Bands {red_band} and {nir_band} are not available in the dataset.\")\n"
   ]
  },
  {
   "cell_type": "code",
   "execution_count": null,
   "id": "dda8f880",
   "metadata": {},
   "outputs": [],
   "source": [
    "# Calculate VCI\n",
    "def calculate_vci(ndvi, historical_min, historical_max):\n",
    "    historical_min_img = ee.Image.constant(historical_min)\n",
    "    historical_max_img = ee.Image.constant(historical_max)\n",
    "    vci = ndvi.subtract(historical_min_img).divide(historical_max_img.subtract(historical_min_img)).multiply(100).rename('VCI')\n",
    "    return vci\n",
    "\n",
    "# Example historical NDVI min and max values\n",
    "historical_min = ndvi.reduceRegion(reducer=ee.Reducer.min(), geometry=roi, scale=30).getInfo()['NDVI']\n",
    "historical_max = ndvi.reduceRegion(reducer=ee.Reducer.max(), geometry=roi, scale=30).getInfo()['NDVI']\n",
    "\n",
    "vci = calculate_vci(ndvi, historical_min, historical_max)\n",
    "Map.addLayer(vci, {'min': 0, 'max': 100, 'palette': ['red', 'yellow', 'green']}, 'VCI', True)\n",
    "\n",
    "# Export VCI\n",
    "vci_output_path = \"S:\\python Course 05-04-2024\\Example_practices\\malukuVCI.tif\"\n",
    "geemap.ee_export_image(\n",
    "    vci,\n",
    "    filename=vci_output_path,\n",
    "    scale=30,\n",
    "    region=region,\n",
    "    file_per_band=False\n",
    ")\n",
    "print(f\"VCI calculation completed and saved to {vci_output_path}\")\n",
    "\n",
    "\n",
    "\n"
   ]
  },
  {
   "cell_type": "code",
   "execution_count": null,
   "id": "595e3054",
   "metadata": {},
   "outputs": [],
   "source": [
    "# ML_B10 = 0.000334  # 3.34E-04 in decimal form\n",
    "# AL_B10 = 0.1\n",
    "def dn_to_radiance(image, band, ml, al):\n",
    "    radiance = image.select(band).multiply(ml).add(al)\n",
    "    return radiance.rename('Radiance')\n",
    "\n",
    "#  Lλ = ML×Qcal+AL\n",
    "# Lλ is the TOA spectral radiance (Watts/(m² * sr * µm))\n",
    "# 𝑀 𝐿is the band-specific multiplicative rescaling factor (RADIANCE_MULT_BAND_x)\n",
    "# 𝐴𝐿 is the band-specific additive rescaling factor (RADIANCE_ADD_BAND_x)\n",
    "# Qcal is the quantized and calibrated standard product pixel values (DN)\n",
    "\n",
    "# Function to convert Radiance to Temperature\n",
    "def radiance_to_temperature(radiance, k1, k2):\n",
    "    temperature = radiance.expression(\n",
    "        'K2 / log((K1 / Radiance) + 1)', {\n",
    "            'Radiance': radiance.select('Radiance'),\n",
    "            'K1': k1,\n",
    "            'K2': k2\n",
    "        }).rename('Temperature')\n",
    "    return temperature\n",
    "\n",
    "\n",
    "# Function to convert Kelvin to Celsius\n",
    "def kelvin_to_celsius(temperature):\n",
    "    celsius = temperature.subtract(273.15).rename('Celsius_Temperature')\n",
    "    return celsius\n",
    "\n",
    "\n",
    "# Function to calculate Emissivity\n",
    "def calculate_emissivity(ndvi):\n",
    "    ndvi_min = ee.Number(ndvi.reduceRegion(reducer=ee.Reducer.min(), geometry=roi, scale=30).get('NDVI'))\n",
    "    ndvi_max = ee.Number(ndvi.reduceRegion(reducer=ee.Reducer.max(), geometry=roi, scale=30).get('NDVI'))\n",
    "\n",
    "    pv = ndvi.subtract(ndvi_min).divide(ndvi_max.subtract(ndvi_min)).pow(2).rename('PV')\n",
    "    emissivity = pv.multiply(0.004).add(0.986).rename('Emissivity')\n",
    "    return emissivity\n",
    "# Function to calculate LST\n",
    "def calculate_lst(bt, emissivity):\n",
    "    w = 0.00115\n",
    "    p = 14380\n",
    "\n",
    "    lst = bt.expression(\n",
    "        '(BT / (1 + (w * BT / p) * log(e)))', {\n",
    "            'BT': bt.select('Celsius_Temperature'),\n",
    "            'w': w,\n",
    "            'p': p,\n",
    "            'e': emissivity.select('Emissivity')\n",
    "        }).rename('LST')\n",
    "    return lst\n",
    "\n",
    "# Landsat 8 thermal band (Band 10)\n",
    "lst_band = 'ST_B10'\n",
    "if lst_band in bands:\n",
    "    # Conversion parameters from metadata\n",
    "    ml = 0.000334 \n",
    "    al = 0.10\n",
    "    k1 = 774.885\n",
    "    k2 = 1321.08\n",
    "\n",
    "    # Convert DN to Radiance\n",
    "    radiance = dn_to_radiance(landsat8, lst_band, ml, al)\n",
    "\n",
    "    # Convert Radiance to Temperature in Kelvin\n",
    "    temperature = radiance_to_temperature(radiance, k1, k2)\n",
    "\n",
    "    # Convert Temperature to Celsius\n",
    "    celsius_temperature = kelvin_to_celsius(temperature)\n",
    "\n",
    "# #      Calculate NDVI\n",
    "#     ndvi = calculate_ndvi(ndvi)\n",
    "\n",
    "    # Calculate Emissivity\n",
    "    emissivity = calculate_emissivity(ndvi)\n",
    "\n",
    "    # Calculate LST\n",
    "    lst = calculate_lst(celsius_temperature, emissivity)\n",
    "\n",
    "    \n",
    "    Map.addLayer(lst, {'min': 0, 'max': 100, 'palette': ['blue', 'green', 'red']}, 'LST', True)\n",
    "\n",
    "    # Export LST\n",
    "    lst_output_path = r\"S:\\python Course 05-04-2024\\Example_practices\\maluku_lst.tif\"\n",
    "    print(f\"Starting lst export to {lst_output_path}\")\n",
    "    geemap.ee_export_image(\n",
    "        lst,\n",
    "        filename=lst_output_path,\n",
    "        scale=30,\n",
    "        region=region,\n",
    "        file_per_band=False\n",
    "    )\n",
    "    print(f\"LST calculation completed and saved to {lst_output_path}\")\n",
    "else:\n",
    "    print(f\"Band {lst_band} is not available in the dataset.\")   \n",
    "\n",
    "\n",
    "\n",
    "#     # Add LST layer to the map\n",
    "#     Map = geemap.Map()\n",
    "#     Map.centerObject(roi, 10)\n",
    "#     Map.addLayer(lst, {'min': 0, 'max': 100, 'palette': ['blue', 'green', 'red']}, 'LST')\n",
    "#     Map.addLayerControl()\n",
    "# #     Map.show()\n",
    "# else:\n",
    "#     print(f\"Band {lst_band} is not available in the dataset.\")\n",
    "\n",
    "\n",
    "\n"
   ]
  },
  {
   "cell_type": "code",
   "execution_count": null,
   "id": "2ba4a959",
   "metadata": {},
   "outputs": [],
   "source": [
    "# Calculate TCI\n",
    "def calculate_tci(lst, historical_min, historical_max):\n",
    "    historical_min_img = ee.Image.constant(historical_min)\n",
    "    historical_max_img = ee.Image.constant(historical_max)\n",
    "    tci = historical_max_img.subtract(lst).divide(historical_max_img.subtract(historical_min_img)).multiply(100).rename('TCI')\n",
    "    return tci\n",
    "\n",
    "# Land Surface Temperature (LST) calculation\n",
    "# lst_band = 'ST_B10'\n",
    "# if lst_band in bands:\n",
    "#     lst = landsat8.select(lst_band).multiply(0.00341802).add(149.0).rename('LST')  # Convert to Kelvin\n",
    "\n",
    "    # Example historical LST min and max values\n",
    "historical_min_lst = lst.reduceRegion(reducer=ee.Reducer.min(), geometry=roi, scale=30).getInfo()['LST']\n",
    "historical_max_lst = lst.reduceRegion(reducer=ee.Reducer.max(), geometry=roi, scale=30).getInfo()['LST']\n",
    "\n",
    "tci = calculate_tci(lst, historical_min_lst, historical_max_lst)\n",
    "Map.addLayer(tci, {'min': 0, 'max': 100, 'palette': ['blue', 'yellow', 'red']}, 'TCI', True)\n",
    "\n",
    "    # Export TCI\n",
    "tci_output_path = r\"S:\\python Course 05-04-2024\\Example_practices\\maluku_tci.tif\"\n",
    "print(f\"Starting TCI export to {tci_output_path}\")\n",
    "geemap.ee_export_image(\n",
    "        tci,\n",
    "        filename=tci_output_path,\n",
    "        scale=30,\n",
    "        region=region,\n",
    "        file_per_band=False\n",
    "    )\n",
    "print(f\"TCI calculation completed and saved to {tci_output_path}\")\n",
    "# else:\n",
    "#     print(f\"Band {lst_band} is not available in the dataset.\")\n",
    "\n"
   ]
  },
  {
   "cell_type": "code",
   "execution_count": null,
   "id": "94a906aa",
   "metadata": {},
   "outputs": [],
   "source": [
    "# Calculate VHI\n",
    "def calculate_vhi(vci, tci, alpha=0.5, beta=0.5):\n",
    "    vhi = vci.multiply(alpha).add(tci.multiply(beta)).rename('VHI')\n",
    "    return vhi\n",
    "\n",
    "if 'TCI' in tci.bandNames().getInfo() and 'VCI' in vci.bandNames().getInfo():\n",
    "    vhi = calculate_vhi(vci, tci)\n",
    "    Map.addLayer(vhi, {'min': 0, 'max': 100, 'palette': ['brown', 'yellow', 'green']}, 'VHI', True)\n",
    "\n",
    "    # Export VHI\n",
    "    vhi_output_path = r\"S:\\python Course 05-04-2024\\Example_practices\\todaylandsat8_vhi1.tif\"\n",
    "    print(f\"Starting VHI export to {vhi_output_path}\")\n",
    "    geemap.ee_export_image(\n",
    "        vhi,\n",
    "        filename=vhi_output_path,\n",
    "        scale=30,\n",
    "        region=region,\n",
    "        file_per_band=False\n",
    "    )\n",
    "    print(f\"VHI calculation completed and saved to {vhi_output_path}\")\n",
    "else:\n",
    "    print(\"VCI or TCI bands are not available in the dataset.\")\n",
    "    \n",
    "# Display the map\n",
    "Map"
   ]
  },
  {
   "cell_type": "code",
   "execution_count": null,
   "id": "059d4e81",
   "metadata": {},
   "outputs": [],
   "source": []
  },
  {
   "cell_type": "code",
   "execution_count": null,
   "id": "ef9e1651",
   "metadata": {},
   "outputs": [],
   "source": []
  },
  {
   "cell_type": "code",
   "execution_count": null,
   "id": "99cfc718",
   "metadata": {},
   "outputs": [],
   "source": []
  }
 ],
 "metadata": {
  "kernelspec": {
   "display_name": "Python 3 (ipykernel)",
   "language": "python",
   "name": "python3"
  },
  "language_info": {
   "codemirror_mode": {
    "name": "ipython",
    "version": 3
   },
   "file_extension": ".py",
   "mimetype": "text/x-python",
   "name": "python",
   "nbconvert_exporter": "python",
   "pygments_lexer": "ipython3",
   "version": "3.11.5"
  }
 },
 "nbformat": 4,
 "nbformat_minor": 5
}
