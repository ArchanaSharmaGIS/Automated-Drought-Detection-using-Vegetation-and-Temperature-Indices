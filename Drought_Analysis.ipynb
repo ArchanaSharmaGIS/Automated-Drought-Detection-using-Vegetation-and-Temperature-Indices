{
 "cells": [
  {
   "cell_type": "code",
   "execution_count": 6,
   "id": "c6695aad-15a2-4873-b632-d1e6566e6465",
   "metadata": {},
   "outputs": [
    {
     "data": {
      "text/html": [
       "\n",
       "            <style>\n",
       "                .geemap-dark {\n",
       "                    --jp-widgets-color: white;\n",
       "                    --jp-widgets-label-color: white;\n",
       "                    --jp-ui-font-color1: white;\n",
       "                    --jp-layout-color2: #454545;\n",
       "                    background-color: #383838;\n",
       "                }\n",
       "\n",
       "                .geemap-dark .jupyter-button {\n",
       "                    --jp-layout-color3: #383838;\n",
       "                }\n",
       "\n",
       "                .geemap-colab {\n",
       "                    background-color: var(--colab-primary-surface-color, white);\n",
       "                }\n",
       "\n",
       "                .geemap-colab .jupyter-button {\n",
       "                    --jp-layout-color3: var(--colab-primary-surface-color, white);\n",
       "                }\n",
       "            </style>\n",
       "            "
      ],
      "text/plain": [
       "<IPython.core.display.HTML object>"
      ]
     },
     "metadata": {},
     "output_type": "display_data"
    }
   ],
   "source": [
    "# Import necessary libraries\n",
    "import ee\n",
    "import geemap\n",
    "import os\n",
    "import rasterio\n",
    "import numpy as np\n",
    "import matplotlib.pyplot as plt\n",
    "import rasterio\n",
    "from rasterio.transform import from_origin\n",
    "from rasterio.enums import Resampling\n",
    "from rasterio.warp import reproject\n",
    "import geopandas as gpd"
   ]
  },
  {
   "cell_type": "code",
   "execution_count": 7,
   "id": "43a6ebcb-502e-4a6a-82e3-d3504ea3c404",
   "metadata": {},
   "outputs": [
    {
     "data": {
      "text/html": [
       "\n",
       "            <style>\n",
       "                .geemap-dark {\n",
       "                    --jp-widgets-color: white;\n",
       "                    --jp-widgets-label-color: white;\n",
       "                    --jp-ui-font-color1: white;\n",
       "                    --jp-layout-color2: #454545;\n",
       "                    background-color: #383838;\n",
       "                }\n",
       "\n",
       "                .geemap-dark .jupyter-button {\n",
       "                    --jp-layout-color3: #383838;\n",
       "                }\n",
       "\n",
       "                .geemap-colab {\n",
       "                    background-color: var(--colab-primary-surface-color, white);\n",
       "                }\n",
       "\n",
       "                .geemap-colab .jupyter-button {\n",
       "                    --jp-layout-color3: var(--colab-primary-surface-color, white);\n",
       "                }\n",
       "            </style>\n",
       "            "
      ],
      "text/plain": [
       "<IPython.core.display.HTML object>"
      ]
     },
     "metadata": {},
     "output_type": "display_data"
    }
   ],
   "source": [
    "# Authenticate and initialize the Earth Engine API\n",
    "ee.Authenticate()\n",
    "ee.Initialize()"
   ]
  },
  {
   "cell_type": "code",
   "execution_count": 8,
   "id": "629ab6e9-19b6-4f87-9f1f-eb6adcc15954",
   "metadata": {},
   "outputs": [
    {
     "data": {
      "text/html": [
       "\n",
       "            <style>\n",
       "                .geemap-dark {\n",
       "                    --jp-widgets-color: white;\n",
       "                    --jp-widgets-label-color: white;\n",
       "                    --jp-ui-font-color1: white;\n",
       "                    --jp-layout-color2: #454545;\n",
       "                    background-color: #383838;\n",
       "                }\n",
       "\n",
       "                .geemap-dark .jupyter-button {\n",
       "                    --jp-layout-color3: #383838;\n",
       "                }\n",
       "\n",
       "                .geemap-colab {\n",
       "                    background-color: var(--colab-primary-surface-color, white);\n",
       "                }\n",
       "\n",
       "                .geemap-colab .jupyter-button {\n",
       "                    --jp-layout-color3: var(--colab-primary-surface-color, white);\n",
       "                }\n",
       "            </style>\n",
       "            "
      ],
      "text/plain": [
       "<IPython.core.display.HTML object>"
      ]
     },
     "metadata": {},
     "output_type": "display_data"
    }
   ],
   "source": [
    "# Create a map\n",
    "Map = geemap.Map()\n",
    "Map.add_basemap('Hybrid')\n"
   ]
  },
  {
   "cell_type": "code",
   "execution_count": 9,
   "id": "de94e130-3b64-4ef8-bd4c-938fe4830e77",
   "metadata": {},
   "outputs": [
    {
     "data": {
      "text/html": [
       "\n",
       "            <style>\n",
       "                .geemap-dark {\n",
       "                    --jp-widgets-color: white;\n",
       "                    --jp-widgets-label-color: white;\n",
       "                    --jp-ui-font-color1: white;\n",
       "                    --jp-layout-color2: #454545;\n",
       "                    background-color: #383838;\n",
       "                }\n",
       "\n",
       "                .geemap-dark .jupyter-button {\n",
       "                    --jp-layout-color3: #383838;\n",
       "                }\n",
       "\n",
       "                .geemap-colab {\n",
       "                    background-color: var(--colab-primary-surface-color, white);\n",
       "                }\n",
       "\n",
       "                .geemap-colab .jupyter-button {\n",
       "                    --jp-layout-color3: var(--colab-primary-surface-color, white);\n",
       "                }\n",
       "            </style>\n",
       "            "
      ],
      "text/plain": [
       "<IPython.core.display.HTML object>"
      ]
     },
     "metadata": {},
     "output_type": "display_data"
    }
   ],
   "source": [
    "def addFile(file_path):\n",
    "    file_extension = os.path.splitext(file_path)[1].lower()\n",
    "    if file_extension == '.json' or file_extension == '.geojson':\n",
    "        ee_object = geemap.geojson_to_ee(file_path)\n",
    "    elif file_extension == '.shp':\n",
    "        ee_object = geemap.shp_to_ee(file_path)\n",
    "    else:\n",
    "        raise ValueError(\"Unsupported file format. Supported formats: GeoJSON (.json, .geojson) and shapefile (.shp)\")\n",
    "    return ee_object"
   ]
  },
  {
   "cell_type": "code",
   "execution_count": 33,
   "id": "77a77586-3895-43ed-be03-97e72a62c5f5",
   "metadata": {},
   "outputs": [
    {
     "data": {
      "text/html": [
       "\n",
       "            <style>\n",
       "                .geemap-dark {\n",
       "                    --jp-widgets-color: white;\n",
       "                    --jp-widgets-label-color: white;\n",
       "                    --jp-ui-font-color1: white;\n",
       "                    --jp-layout-color2: #454545;\n",
       "                    background-color: #383838;\n",
       "                }\n",
       "\n",
       "                .geemap-dark .jupyter-button {\n",
       "                    --jp-layout-color3: #383838;\n",
       "                }\n",
       "\n",
       "                .geemap-colab {\n",
       "                    background-color: var(--colab-primary-surface-color, white);\n",
       "                }\n",
       "\n",
       "                .geemap-colab .jupyter-button {\n",
       "                    --jp-layout-color3: var(--colab-primary-surface-color, white);\n",
       "                }\n",
       "            </style>\n",
       "            "
      ],
      "text/plain": [
       "<IPython.core.display.HTML object>"
      ]
     },
     "metadata": {},
     "output_type": "display_data"
    }
   ],
   "source": [
    "# Load and add boundary file\n",
    "path =r\"D:\\pythonCourse05-04-2024\\Git_Hub\\Sample_Data.shp\"\n",
    "roi = addFile(path)\n",
    "region = roi.geometry()\n",
    "Map.centerObject(roi, zoom=14)\n",
    "Map.addLayer(roi.style(**{'color': 'FFFFFF', 'fillColor': '00000000'}), {}, 'Boundary')\n",
    "\n",
    "# Define date range\n",
    "startdate = '2015-01-01'\n",
    "enddate = '2024-03-30'\n",
    "\n",
    "# Change dataset to Landsat 8\n",
    "dataset = (\n",
    "    ee.ImageCollection('LANDSAT/LC08/C02/T1_L2')\n",
    "    .filterDate(startdate, enddate)\n",
    "    .filterBounds(roi)\n",
    ")\n"
   ]
  },
  {
   "cell_type": "code",
   "execution_count": 34,
   "id": "43d5d5b4-78fd-468d-bd93-64f2f64490a7",
   "metadata": {},
   "outputs": [
    {
     "data": {
      "text/html": [
       "\n",
       "            <style>\n",
       "                .geemap-dark {\n",
       "                    --jp-widgets-color: white;\n",
       "                    --jp-widgets-label-color: white;\n",
       "                    --jp-ui-font-color1: white;\n",
       "                    --jp-layout-color2: #454545;\n",
       "                    background-color: #383838;\n",
       "                }\n",
       "\n",
       "                .geemap-dark .jupyter-button {\n",
       "                    --jp-layout-color3: #383838;\n",
       "                }\n",
       "\n",
       "                .geemap-colab {\n",
       "                    background-color: var(--colab-primary-surface-color, white);\n",
       "                }\n",
       "\n",
       "                .geemap-colab .jupyter-button {\n",
       "                    --jp-layout-color3: var(--colab-primary-surface-color, white);\n",
       "                }\n",
       "            </style>\n",
       "            "
      ],
      "text/plain": [
       "<IPython.core.display.HTML object>"
      ]
     },
     "metadata": {},
     "output_type": "display_data"
    }
   ],
   "source": [
    "# Visualization parameters\n",
    "visualization = {\n",
    "    'min': 0,\n",
    "    'max': 3000,\n",
    "    'bands': ['SR_B6', 'SR_B5', 'SR_B4'],  # Correct band names\n",
    "}\n",
    "\n",
    "landsat8 = dataset.median().clip(roi)\n"
   ]
  },
  {
   "cell_type": "code",
   "execution_count": 35,
   "id": "b351f860-d8ff-480e-9bb7-a7cb288151e1",
   "metadata": {},
   "outputs": [
    {
     "data": {
      "text/html": [
       "\n",
       "            <style>\n",
       "                .geemap-dark {\n",
       "                    --jp-widgets-color: white;\n",
       "                    --jp-widgets-label-color: white;\n",
       "                    --jp-ui-font-color1: white;\n",
       "                    --jp-layout-color2: #454545;\n",
       "                    background-color: #383838;\n",
       "                }\n",
       "\n",
       "                .geemap-dark .jupyter-button {\n",
       "                    --jp-layout-color3: #383838;\n",
       "                }\n",
       "\n",
       "                .geemap-colab {\n",
       "                    background-color: var(--colab-primary-surface-color, white);\n",
       "                }\n",
       "\n",
       "                .geemap-colab .jupyter-button {\n",
       "                    --jp-layout-color3: var(--colab-primary-surface-color, white);\n",
       "                }\n",
       "            </style>\n",
       "            "
      ],
      "text/plain": [
       "<IPython.core.display.HTML object>"
      ]
     },
     "metadata": {},
     "output_type": "display_data"
    },
    {
     "name": "stdout",
     "output_type": "stream",
     "text": [
      "Available bands: ['SR_B1', 'SR_B2', 'SR_B3', 'SR_B4', 'SR_B5', 'SR_B6', 'SR_B7', 'SR_QA_AEROSOL', 'ST_B10', 'ST_ATRAN', 'ST_CDIST', 'ST_DRAD', 'ST_EMIS', 'ST_EMSD', 'ST_QA', 'ST_TRAD', 'ST_URAD', 'QA_PIXEL', 'QA_RADSAT']\n"
     ]
    }
   ],
   "source": [
    "# Check available bands\n",
    "bands = landsat8.bandNames().getInfo()\n",
    "print(f\"Available bands: {bands}\")"
   ]
  },
  {
   "cell_type": "code",
   "execution_count": 36,
   "id": "de004b74-b62a-4468-b006-c46b6d17fe08",
   "metadata": {},
   "outputs": [
    {
     "data": {
      "text/html": [
       "\n",
       "            <style>\n",
       "                .geemap-dark {\n",
       "                    --jp-widgets-color: white;\n",
       "                    --jp-widgets-label-color: white;\n",
       "                    --jp-ui-font-color1: white;\n",
       "                    --jp-layout-color2: #454545;\n",
       "                    background-color: #383838;\n",
       "                }\n",
       "\n",
       "                .geemap-dark .jupyter-button {\n",
       "                    --jp-layout-color3: #383838;\n",
       "                }\n",
       "\n",
       "                .geemap-colab {\n",
       "                    background-color: var(--colab-primary-surface-color, white);\n",
       "                }\n",
       "\n",
       "                .geemap-colab .jupyter-button {\n",
       "                    --jp-layout-color3: var(--colab-primary-surface-color, white);\n",
       "                }\n",
       "            </style>\n",
       "            "
      ],
      "text/plain": [
       "<IPython.core.display.HTML object>"
      ]
     },
     "metadata": {},
     "output_type": "display_data"
    },
    {
     "name": "stdout",
     "output_type": "stream",
     "text": [
      "Generating URL ...\n",
      "Downloading data from https://earthengine.googleapis.com/v1/projects/earthengine-legacy/thumbnails/726774816d333b50a0c03f8fd77c4035-840e2bd280b8d13b625d10190b006c1d:getPixels\n",
      "Please wait ...\n",
      "Data downloaded to D:\\pythonCourse05-04-2024\\Git_Hub\\NDVI.tif\n",
      "NDVI calculation and export completed. Saved to D:\\pythonCourse05-04-2024\\Git_Hub\\NDVI.tif\n"
     ]
    }
   ],
   "source": [
    "# Calculate NDVI\n",
    "red_band = 'SR_B4'\n",
    "nir_band = 'SR_B5'\n",
    "if red_band in bands and nir_band in bands:\n",
    "    red = landsat8.select(red_band)\n",
    "    nir = landsat8.select(nir_band)\n",
    "    ndvi = nir.subtract(red).divide(nir.add(red)).rename('NDVI')\n",
    "\n",
    "    # Display NDVI on map\n",
    "    Map.addLayer(ndvi, {'min': -1, 'max': 1, 'palette': ['red', 'yellow', 'green']}, 'NDVI', True)\n",
    "\n",
    "    # Export NDVI\n",
    "    ndvi_output_path = r\"D:\\pythonCourse05-04-2024\\Git_Hub\\NDVI.tif\"\n",
    "    geemap.ee_export_image(\n",
    "        ndvi,\n",
    "        \n",
    "        filename=ndvi_output_path,\n",
    "        scale=30,\n",
    "        region=region,\n",
    "        file_per_band=False\n",
    "    )\n",
    "    print(f\"NDVI calculation and export completed. Saved to {ndvi_output_path}\")\n",
    "else:\n",
    "    print(f\"Bands {red_band} and {nir_band} are not available in the dataset.\")\n"
   ]
  },
  {
   "cell_type": "code",
   "execution_count": 37,
   "id": "c95d6033-d783-4433-b528-c9895325b3fd",
   "metadata": {},
   "outputs": [
    {
     "data": {
      "text/html": [
       "\n",
       "            <style>\n",
       "                .geemap-dark {\n",
       "                    --jp-widgets-color: white;\n",
       "                    --jp-widgets-label-color: white;\n",
       "                    --jp-ui-font-color1: white;\n",
       "                    --jp-layout-color2: #454545;\n",
       "                    background-color: #383838;\n",
       "                }\n",
       "\n",
       "                .geemap-dark .jupyter-button {\n",
       "                    --jp-layout-color3: #383838;\n",
       "                }\n",
       "\n",
       "                .geemap-colab {\n",
       "                    background-color: var(--colab-primary-surface-color, white);\n",
       "                }\n",
       "\n",
       "                .geemap-colab .jupyter-button {\n",
       "                    --jp-layout-color3: var(--colab-primary-surface-color, white);\n",
       "                }\n",
       "            </style>\n",
       "            "
      ],
      "text/plain": [
       "<IPython.core.display.HTML object>"
      ]
     },
     "metadata": {},
     "output_type": "display_data"
    },
    {
     "name": "stdout",
     "output_type": "stream",
     "text": [
      "Generating URL ...\n",
      "Downloading data from https://earthengine.googleapis.com/v1/projects/earthengine-legacy/thumbnails/d9c7082dc89358aa56ab5cbfc6467e2e-078cb92a1ebca1636fe0ec5f1741a816:getPixels\n",
      "Please wait ...\n",
      "Data downloaded to D:\\pythonCourse05-04-2024\\Git_Hub\\VCI.tif\n",
      "VCI calculation completed and saved to D:\\pythonCourse05-04-2024\\Git_Hub\\VCI.tif\n"
     ]
    }
   ],
   "source": [
    "# Calculate VCI\n",
    "def calculate_vci(ndvi, historical_min, historical_max):\n",
    "    historical_min_img = ee.Image.constant(historical_min)\n",
    "    historical_max_img = ee.Image.constant(historical_max)\n",
    "    vci = ndvi.subtract(historical_min_img).divide(historical_max_img.subtract(historical_min_img)).multiply(100).rename('VCI')\n",
    "    return vci\n",
    "\n",
    "# Example historical NDVI min and max values\n",
    "historical_min = ndvi.reduceRegion(reducer=ee.Reducer.min(), geometry=roi, scale=30).getInfo()['NDVI']\n",
    "historical_max = ndvi.reduceRegion(reducer=ee.Reducer.max(), geometry=roi, scale=30).getInfo()['NDVI']\n",
    "\n",
    "vci = calculate_vci(ndvi, historical_min, historical_max)\n",
    "Map.addLayer(vci, {'min': 0, 'max': 100, 'palette': ['red', 'yellow', 'green']}, 'VCI', True)\n",
    "\n",
    "# Export VCI\n",
    "vci_output_path = r\"D:\\pythonCourse05-04-2024\\Git_Hub\\VCI.tif\"\n",
    "geemap.ee_export_image(\n",
    "    vci,\n",
    "    filename=vci_output_path,\n",
    "    scale=30,\n",
    "    region=region,\n",
    "    file_per_band=False\n",
    ")\n",
    "print(f\"VCI calculation completed and saved to {vci_output_path}\")\n"
   ]
  },
  {
   "cell_type": "code",
   "execution_count": 38,
   "id": "6a3c3d3e-cdef-417b-9dff-dad805743ecb",
   "metadata": {},
   "outputs": [
    {
     "data": {
      "text/html": [
       "\n",
       "            <style>\n",
       "                .geemap-dark {\n",
       "                    --jp-widgets-color: white;\n",
       "                    --jp-widgets-label-color: white;\n",
       "                    --jp-ui-font-color1: white;\n",
       "                    --jp-layout-color2: #454545;\n",
       "                    background-color: #383838;\n",
       "                }\n",
       "\n",
       "                .geemap-dark .jupyter-button {\n",
       "                    --jp-layout-color3: #383838;\n",
       "                }\n",
       "\n",
       "                .geemap-colab {\n",
       "                    background-color: var(--colab-primary-surface-color, white);\n",
       "                }\n",
       "\n",
       "                .geemap-colab .jupyter-button {\n",
       "                    --jp-layout-color3: var(--colab-primary-surface-color, white);\n",
       "                }\n",
       "            </style>\n",
       "            "
      ],
      "text/plain": [
       "<IPython.core.display.HTML object>"
      ]
     },
     "metadata": {},
     "output_type": "display_data"
    },
    {
     "name": "stdout",
     "output_type": "stream",
     "text": [
      "Starting lst export to D:\\pythonCourse05-04-2024\\Git_Hub\\LST.tif\n",
      "Generating URL ...\n",
      "Downloading data from https://earthengine.googleapis.com/v1/projects/earthengine-legacy/thumbnails/6ab755b5af212ec2a5377f7748991158-538b74bcfa3e3ddfebd52c2417929c44:getPixels\n",
      "Please wait ...\n",
      "Data downloaded to D:\\pythonCourse05-04-2024\\Git_Hub\\LST.tif\n",
      "LST calculation completed and saved to D:\\pythonCourse05-04-2024\\Git_Hub\\LST.tif\n"
     ]
    }
   ],
   "source": [
    "#Calculate LST\n",
    "\n",
    "# ML_B10 = 0.000334  # 3.34E-04 in decimal form\n",
    "# AL_B10 = 0.1\n",
    "def dn_to_radiance(image, band, ml, al):\n",
    "    radiance = image.select(band).multiply(ml).add(al)\n",
    "    return radiance.rename('Radiance')\n",
    "\n",
    "#  Lλ = ML×Qcal+AL\n",
    "# Lλ is the TOA spectral radiance (Watts/(m² * sr * µm))\n",
    "# 𝑀 𝐿is the band-specific multiplicative rescaling factor (RADIANCE_MULT_BAND_x)\n",
    "# 𝐴𝐿 is the band-specific additive rescaling factor (RADIANCE_ADD_BAND_x)\n",
    "# Qcal is the quantized and calibrated standard product pixel values (DN)\n",
    "\n",
    "# Function to convert Radiance to Temperature\n",
    "def radiance_to_temperature(radiance, k1, k2):\n",
    "    temperature = radiance.expression(\n",
    "        'K2 / log((K1 / Radiance) + 1)', {\n",
    "            'Radiance': radiance.select('Radiance'),\n",
    "            'K1': k1,\n",
    "            'K2': k2\n",
    "        }).rename('Temperature')\n",
    "    return temperature\n",
    "\n",
    "\n",
    "# Function to convert Kelvin to Celsius\n",
    "def kelvin_to_celsius(temperature):\n",
    "    celsius = temperature.subtract(273.15).rename('Celsius_Temperature')\n",
    "    return celsius\n",
    "\n",
    "\n",
    "# Function to calculate Emissivity\n",
    "def calculate_emissivity(ndvi):\n",
    "    ndvi_min = ee.Number(ndvi.reduceRegion(reducer=ee.Reducer.min(), geometry=roi, scale=30).get('NDVI'))\n",
    "    ndvi_max = ee.Number(ndvi.reduceRegion(reducer=ee.Reducer.max(), geometry=roi, scale=30).get('NDVI'))\n",
    "\n",
    "    pv = ndvi.subtract(ndvi_min).divide(ndvi_max.subtract(ndvi_min)).pow(2).rename('PV')\n",
    "    emissivity = pv.multiply(0.004).add(0.986).rename('Emissivity')\n",
    "    return emissivity\n",
    "# Function to calculate LST\n",
    "def calculate_lst(bt, emissivity):\n",
    "    w = 0.00115\n",
    "    p = 14380\n",
    "\n",
    "    lst = bt.expression(\n",
    "        '(BT / (1 + (w * BT / p) * log(e)))', {\n",
    "            'BT': bt.select('Celsius_Temperature'),\n",
    "            'w': w,\n",
    "            'p': p,\n",
    "            'e': emissivity.select('Emissivity')\n",
    "        }).rename('LST')\n",
    "    return lst\n",
    "\n",
    "# Landsat 8 thermal band (Band 10)\n",
    "lst_band = 'ST_B10'\n",
    "if lst_band in bands:\n",
    "    # Conversion parameters from metadata\n",
    "    ml = 0.000334 \n",
    "    al = 0.10\n",
    "    k1 = 774.885\n",
    "    k2 = 1321.08\n",
    "\n",
    "    # Convert DN to Radiance\n",
    "    radiance = dn_to_radiance(landsat8, lst_band, ml, al)\n",
    "\n",
    "    # Convert Radiance to Temperature in Kelvin\n",
    "    temperature = radiance_to_temperature(radiance, k1, k2)\n",
    "\n",
    "    # Convert Temperature to Celsius\n",
    "    celsius_temperature = kelvin_to_celsius(temperature)\n",
    "\n",
    "# #      Calculate NDVI\n",
    "#     ndvi = calculate_ndvi(ndvi)\n",
    "\n",
    "    # Calculate Emissivity\n",
    "    emissivity = calculate_emissivity(ndvi)\n",
    "\n",
    "    # Calculate LST\n",
    "    lst = calculate_lst(celsius_temperature, emissivity)\n",
    "\n",
    "    \n",
    "    Map.addLayer(lst, {'min': 0, 'max': 100, 'palette': ['blue', 'green', 'red']}, 'LST', True)\n",
    "\n",
    "    # Export LST\n",
    "    lst_output_path = r\"D:\\pythonCourse05-04-2024\\Git_Hub\\LST.tif\"\n",
    "    print(f\"Starting lst export to {lst_output_path}\")\n",
    "    geemap.ee_export_image(\n",
    "        lst,\n",
    "        filename=lst_output_path,\n",
    "        scale=30,\n",
    "        region=region,\n",
    "        file_per_band=False\n",
    "    )\n",
    "    print(f\"LST calculation completed and saved to {lst_output_path}\")\n",
    "else:\n",
    "    print(f\"Band {lst_band} is not available in the dataset.\")  "
   ]
  },
  {
   "cell_type": "code",
   "execution_count": 39,
   "id": "18e70d1e-9942-459e-a58c-c6e36cc65610",
   "metadata": {},
   "outputs": [
    {
     "data": {
      "text/html": [
       "\n",
       "            <style>\n",
       "                .geemap-dark {\n",
       "                    --jp-widgets-color: white;\n",
       "                    --jp-widgets-label-color: white;\n",
       "                    --jp-ui-font-color1: white;\n",
       "                    --jp-layout-color2: #454545;\n",
       "                    background-color: #383838;\n",
       "                }\n",
       "\n",
       "                .geemap-dark .jupyter-button {\n",
       "                    --jp-layout-color3: #383838;\n",
       "                }\n",
       "\n",
       "                .geemap-colab {\n",
       "                    background-color: var(--colab-primary-surface-color, white);\n",
       "                }\n",
       "\n",
       "                .geemap-colab .jupyter-button {\n",
       "                    --jp-layout-color3: var(--colab-primary-surface-color, white);\n",
       "                }\n",
       "            </style>\n",
       "            "
      ],
      "text/plain": [
       "<IPython.core.display.HTML object>"
      ]
     },
     "metadata": {},
     "output_type": "display_data"
    },
    {
     "name": "stdout",
     "output_type": "stream",
     "text": [
      "Starting TCI export to D:\\pythonCourse05-04-2024\\Git_Hub\\TCI.tif\n",
      "Generating URL ...\n",
      "Downloading data from https://earthengine.googleapis.com/v1/projects/earthengine-legacy/thumbnails/d994224270610d479f3a2130f0e84015-58d48b184d7f0112666cc111e428d853:getPixels\n",
      "Please wait ...\n",
      "Data downloaded to D:\\pythonCourse05-04-2024\\Git_Hub\\TCI.tif\n",
      "TCI calculation completed and saved to D:\\pythonCourse05-04-2024\\Git_Hub\\TCI.tif\n"
     ]
    }
   ],
   "source": [
    "# Calculate TCI\n",
    "def calculate_tci(lst, historical_min, historical_max):\n",
    "    historical_min_img = ee.Image.constant(historical_min)\n",
    "    historical_max_img = ee.Image.constant(historical_max)\n",
    "    tci = historical_max_img.subtract(lst).divide(historical_max_img.subtract(historical_min_img)).multiply(100).rename('TCI')\n",
    "    return tci\n",
    "\n",
    "    # Example historical LST min and max values\n",
    "historical_min_lst = lst.reduceRegion(reducer=ee.Reducer.min(), geometry=roi, scale=30).getInfo()['LST']\n",
    "historical_max_lst = lst.reduceRegion(reducer=ee.Reducer.max(), geometry=roi, scale=30).getInfo()['LST']\n",
    "\n",
    "tci = calculate_tci(lst, historical_min_lst, historical_max_lst)\n",
    "Map.addLayer(tci, {'min': 0, 'max': 100, 'palette': ['blue', 'yellow', 'red']}, 'TCI', True)\n",
    "\n",
    "    # Export TCI\n",
    "tci_output_path =\"D:\\pythonCourse05-04-2024\\Git_Hub\\TCI.tif\"\n",
    "print(f\"Starting TCI export to {tci_output_path}\")\n",
    "geemap.ee_export_image(\n",
    "        tci,\n",
    "        filename=tci_output_path,\n",
    "        scale=30,\n",
    "        region=region,\n",
    "        file_per_band=False\n",
    "    )\n",
    "print(f\"TCI calculation completed and saved to {tci_output_path}\")\n",
    "# else:\n",
    "#     print(f\"Band {lst_band} is not available in the dataset.\")\n"
   ]
  },
  {
   "cell_type": "code",
   "execution_count": 40,
   "id": "7345b419-cd0e-4674-bb0a-da8fd9a9b0be",
   "metadata": {},
   "outputs": [
    {
     "data": {
      "text/html": [
       "\n",
       "            <style>\n",
       "                .geemap-dark {\n",
       "                    --jp-widgets-color: white;\n",
       "                    --jp-widgets-label-color: white;\n",
       "                    --jp-ui-font-color1: white;\n",
       "                    --jp-layout-color2: #454545;\n",
       "                    background-color: #383838;\n",
       "                }\n",
       "\n",
       "                .geemap-dark .jupyter-button {\n",
       "                    --jp-layout-color3: #383838;\n",
       "                }\n",
       "\n",
       "                .geemap-colab {\n",
       "                    background-color: var(--colab-primary-surface-color, white);\n",
       "                }\n",
       "\n",
       "                .geemap-colab .jupyter-button {\n",
       "                    --jp-layout-color3: var(--colab-primary-surface-color, white);\n",
       "                }\n",
       "            </style>\n",
       "            "
      ],
      "text/plain": [
       "<IPython.core.display.HTML object>"
      ]
     },
     "metadata": {},
     "output_type": "display_data"
    },
    {
     "name": "stdout",
     "output_type": "stream",
     "text": [
      "Starting VHI export to D:\\pythonCourse05-04-2024\\Git_Hub\\VHI.tif\n",
      "Generating URL ...\n",
      "Downloading data from https://earthengine.googleapis.com/v1/projects/earthengine-legacy/thumbnails/dd897b65d7f72326d485d874d8f436f1-18f9a67cc81fd51781d39f139933959e:getPixels\n",
      "Please wait ...\n",
      "Data downloaded to D:\\pythonCourse05-04-2024\\Git_Hub\\VHI.tif\n",
      "VHI calculation completed and saved to D:\\pythonCourse05-04-2024\\Git_Hub\\VHI.tif\n"
     ]
    }
   ],
   "source": [
    "# Calculate VHI\n",
    "def calculate_vhi(vci, tci, alpha=0.5, beta=0.5):\n",
    "    vhi = vci.multiply(alpha).add(tci.multiply(beta)).rename('VHI')\n",
    "    return vhi\n",
    "\n",
    "if 'TCI' in tci.bandNames().getInfo() and 'VCI' in vci.bandNames().getInfo():\n",
    "    vhi = calculate_vhi(vci, tci)\n",
    "    Map.addLayer(vhi, {'min': 0, 'max': 100, 'palette': ['brown', 'yellow', 'green']}, 'VHI', True)\n",
    "\n",
    "    # Export VHI\n",
    "    vhi_output_path = r\"D:\\pythonCourse05-04-2024\\Git_Hub\\VHI.tif\"\n",
    "    print(f\"Starting VHI export to {vhi_output_path}\")\n",
    "    geemap.ee_export_image(\n",
    "        vhi,\n",
    "        filename=vhi_output_path,\n",
    "        scale=30,\n",
    "        region=region,\n",
    "        file_per_band=False\n",
    "    )\n",
    "    print(f\"VHI calculation completed and saved to {vhi_output_path}\")\n",
    "else:\n",
    "    print(\"VCI or TCI bands are not available in the dataset.\")\n",
    "    \n"
   ]
  },
  {
   "cell_type": "code",
   "execution_count": 41,
   "id": "979ea774-8736-4d3e-a16a-6df44127b5f3",
   "metadata": {},
   "outputs": [
    {
     "data": {
      "text/html": [
       "\n",
       "            <style>\n",
       "                .geemap-dark {\n",
       "                    --jp-widgets-color: white;\n",
       "                    --jp-widgets-label-color: white;\n",
       "                    --jp-ui-font-color1: white;\n",
       "                    --jp-layout-color2: #454545;\n",
       "                    background-color: #383838;\n",
       "                }\n",
       "\n",
       "                .geemap-dark .jupyter-button {\n",
       "                    --jp-layout-color3: #383838;\n",
       "                }\n",
       "\n",
       "                .geemap-colab {\n",
       "                    background-color: var(--colab-primary-surface-color, white);\n",
       "                }\n",
       "\n",
       "                .geemap-colab .jupyter-button {\n",
       "                    --jp-layout-color3: var(--colab-primary-surface-color, white);\n",
       "                }\n",
       "            </style>\n",
       "            "
      ],
      "text/plain": [
       "<IPython.core.display.HTML object>"
      ]
     },
     "metadata": {},
     "output_type": "display_data"
    },
    {
     "name": "stdout",
     "output_type": "stream",
     "text": [
      "Starting DSI export to D:\\pythonCourse05-04-2024\\Git_Hub\\DSI.tif\n",
      "Generating URL ...\n",
      "Downloading data from https://earthengine.googleapis.com/v1/projects/earthengine-legacy/thumbnails/3a5d72160cc5a6e7606c6bfb2582b14a-6e9b4bb152cce4b0c9db5ee62151d3c0:getPixels\n",
      "Please wait ...\n",
      "Data downloaded to D:\\pythonCourse05-04-2024\\Git_Hub\\DSI.tif\n",
      "DSI calculation completed and saved to D:\\pythonCourse05-04-2024\\Git_Hub\\DSI.tif\n"
     ]
    }
   ],
   "source": [
    "# Function to calculate DSI\n",
    "def calculate_dsi(ndvi, lst, ndvi_min, ndvi_max, lst_min, lst_max):\n",
    "    ndvi_norm = ndvi.subtract(ndvi_min).divide(ndvi_max.subtract(ndvi_min))\n",
    "    lst_norm = lst_max.subtract(lst).divide(lst_max.subtract(lst_min))\n",
    "    dsi = ndvi_norm.multiply(lst_norm).rename('DSI')\n",
    "    return dsi\n",
    "\n",
    "# Calculate historical min and max values for NDVI and LST\n",
    "ndvi_min = ndvi.reduceRegion(reducer=ee.Reducer.min(), geometry=roi, scale=30).getInfo()['NDVI']\n",
    "ndvi_max = ndvi.reduceRegion(reducer=ee.Reducer.max(), geometry=roi, scale=30).getInfo()['NDVI']\n",
    "lst_min = lst.reduceRegion(reducer=ee.Reducer.min(), geometry=roi, scale=30).getInfo()['LST']\n",
    "lst_max = lst.reduceRegion(reducer=ee.Reducer.max(), geometry=roi, scale=30).getInfo()['LST']\n",
    "\n",
    "# Calculate DSI\n",
    "dsi = calculate_dsi(ndvi, lst, ee.Image.constant(ndvi_min), ee.Image.constant(ndvi_max), \n",
    "                    ee.Image.constant(lst_min), ee.Image.constant(lst_max))\n",
    "\n",
    "# Add DSI to the map\n",
    "Map.addLayer(dsi, {'min': 0, 'max': 1, 'palette': ['blue', 'green', 'yellow', 'red']}, 'DSI', True)\n",
    "\n",
    "# Export DSI\n",
    "dsi_output_path = r\"D:\\pythonCourse05-04-2024\\Git_Hub\\DSI.tif\" \n",
    "print(f\"Starting DSI export to {dsi_output_path}\")\n",
    "geemap.ee_export_image(\n",
    "    dsi,\n",
    "    filename=dsi_output_path,\n",
    "    scale=30,\n",
    "    region=region,\n",
    "    file_per_band=False\n",
    ")\n",
    "print(f\"DSI calculation completed and saved to {dsi_output_path}\")"
   ]
  },
  {
   "cell_type": "code",
   "execution_count": 42,
   "id": "e9834382-0f2e-4422-baab-57bde6d0c88f",
   "metadata": {},
   "outputs": [
    {
     "data": {
      "text/html": [
       "\n",
       "            <style>\n",
       "                .geemap-dark {\n",
       "                    --jp-widgets-color: white;\n",
       "                    --jp-widgets-label-color: white;\n",
       "                    --jp-ui-font-color1: white;\n",
       "                    --jp-layout-color2: #454545;\n",
       "                    background-color: #383838;\n",
       "                }\n",
       "\n",
       "                .geemap-dark .jupyter-button {\n",
       "                    --jp-layout-color3: #383838;\n",
       "                }\n",
       "\n",
       "                .geemap-colab {\n",
       "                    background-color: var(--colab-primary-surface-color, white);\n",
       "                }\n",
       "\n",
       "                .geemap-colab .jupyter-button {\n",
       "                    --jp-layout-color3: var(--colab-primary-surface-color, white);\n",
       "                }\n",
       "            </style>\n",
       "            "
      ],
      "text/plain": [
       "<IPython.core.display.HTML object>"
      ]
     },
     "metadata": {},
     "output_type": "display_data"
    },
    {
     "data": {
      "application/vnd.jupyter.widget-view+json": {
       "model_id": "d9da8dcb7fc5481cbaba51f60427611d",
       "version_major": 2,
       "version_minor": 0
      },
      "text/plain": [
       "Map(center=[-3.140319616036173, 130.38339122982435], controls=(WidgetControl(options=['position', 'transparent…"
      ]
     },
     "execution_count": 42,
     "metadata": {},
     "output_type": "execute_result"
    }
   ],
   "source": [
    "Map"
   ]
  },
  {
   "cell_type": "code",
   "execution_count": null,
   "id": "3f43dad1-c2fc-4776-9d48-e5434e229d7d",
   "metadata": {},
   "outputs": [],
   "source": []
  }
 ],
 "metadata": {
  "kernelspec": {
   "display_name": "Python 3 (ipykernel)",
   "language": "python",
   "name": "python3"
  },
  "language_info": {
   "codemirror_mode": {
    "name": "ipython",
    "version": 3
   },
   "file_extension": ".py",
   "mimetype": "text/x-python",
   "name": "python",
   "nbconvert_exporter": "python",
   "pygments_lexer": "ipython3",
   "version": "3.12.3"
  }
 },
 "nbformat": 4,
 "nbformat_minor": 5
}
